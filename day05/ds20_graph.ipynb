{
 "cells": [
  {
   "cell_type": "code",
   "execution_count": null,
   "metadata": {},
   "outputs": [],
   "source": [
    "# file: ds20_graph.ipynb\n",
    "\n",
    "# desc: 그래프 간단구현"
   ]
  },
  {
   "cell_type": "markdown",
   "metadata": {},
   "source": [
    "## 자료구조와 알고리즘\n",
    "\n",
    "- 그래프 구현\n",
    "## 그래프 정점 생성\n",
    "\n",
    "![그래프](https://raw.githubusercontent.com/JinyongSon/ds-and-algorithm-2024/main/images/graph.png)"
   ]
  },
  {
   "cell_type": "markdown",
   "metadata": {},
   "source": []
  }
 ],
 "metadata": {
  "language_info": {
   "name": "python"
  }
 },
 "nbformat": 4,
 "nbformat_minor": 2
}
