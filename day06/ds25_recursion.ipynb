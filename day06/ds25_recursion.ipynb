{
 "cells": [
  {
   "cell_type": "code",
   "execution_count": 1,
   "metadata": {},
   "outputs": [],
   "source": [
    "# file: ds25_recursion.ipynb\n",
    "# desc: 재귀호출 연습"
   ]
  },
  {
   "cell_type": "markdown",
   "metadata": {},
   "source": [
    "## 자료구조와 알고리즘\n",
    "\n",
    "- 재귀호출\n",
    "\n",
    "### 재귀호출 연습"
   ]
  },
  {
   "cell_type": "code",
   "execution_count": 2,
   "metadata": {},
   "outputs": [],
   "source": [
    "import time"
   ]
  },
  {
   "cell_type": "code",
   "execution_count": 3,
   "metadata": {},
   "outputs": [],
   "source": [
    "# 카운트다운\n",
    "def countDown(n):\n",
    "    if n == 0: \n",
    "        print('발사!!!!')\n",
    "    else:\n",
    "        print(n)\n",
    "        time.sleep(1) # 1초 딜레이\n",
    "        countDown(n-1)"
   ]
  },
  {
   "cell_type": "code",
   "execution_count": 4,
   "metadata": {},
   "outputs": [
    {
     "name": "stdout",
     "output_type": "stream",
     "text": [
      "10\n",
      "9\n",
      "8\n",
      "7\n",
      "6\n",
      "5\n",
      "4\n",
      "3\n",
      "2\n",
      "1\n",
      "발사!!!!\n"
     ]
    }
   ],
   "source": [
    "countDown(10)"
   ]
  },
  {
   "cell_type": "code",
   "execution_count": 5,
   "metadata": {},
   "outputs": [],
   "source": [
    "## 별찍기\n",
    "def printStar(n):\n",
    "    if n > 0:\n",
    "        print('*' * n) # 위아래 바꿔볼것\n",
    "        printStar(n-1) # "
   ]
  },
  {
   "cell_type": "code",
   "execution_count": 6,
   "metadata": {},
   "outputs": [
    {
     "name": "stdout",
     "output_type": "stream",
     "text": [
      "*****\n",
      "****\n",
      "***\n",
      "**\n",
      "*\n"
     ]
    }
   ],
   "source": [
    "printStar(5)"
   ]
  },
  {
   "cell_type": "code",
   "execution_count": 10,
   "metadata": {},
   "outputs": [],
   "source": [
    "## 구구단\n",
    "def gugu(dan, num):\n",
    "    print(f'{dan:02d} x {num:02d} = {dan*num}', end='\\t')\n",
    "    if num < 9:\n",
    "        gugu(dan, num+1)"
   ]
  },
  {
   "cell_type": "code",
   "execution_count": 11,
   "metadata": {},
   "outputs": [
    {
     "name": "stdout",
     "output_type": "stream",
     "text": [
      "\n",
      "2단\n",
      "02 x 01 = 2\t02 x 02 = 4\t02 x 03 = 6\t02 x 04 = 8\t02 x 05 = 10\t02 x 06 = 12\t02 x 07 = 14\t02 x 08 = 16\t02 x 09 = 18\t\n",
      "3단\n",
      "03 x 01 = 3\t03 x 02 = 6\t03 x 03 = 9\t03 x 04 = 12\t03 x 05 = 15\t03 x 06 = 18\t03 x 07 = 21\t03 x 08 = 24\t03 x 09 = 27\t\n",
      "4단\n",
      "04 x 01 = 4\t04 x 02 = 8\t04 x 03 = 12\t04 x 04 = 16\t04 x 05 = 20\t04 x 06 = 24\t04 x 07 = 28\t04 x 08 = 32\t04 x 09 = 36\t\n",
      "5단\n",
      "05 x 01 = 5\t05 x 02 = 10\t05 x 03 = 15\t05 x 04 = 20\t05 x 05 = 25\t05 x 06 = 30\t05 x 07 = 35\t05 x 08 = 40\t05 x 09 = 45\t\n",
      "6단\n",
      "06 x 01 = 6\t06 x 02 = 12\t06 x 03 = 18\t06 x 04 = 24\t06 x 05 = 30\t06 x 06 = 36\t06 x 07 = 42\t06 x 08 = 48\t06 x 09 = 54\t\n",
      "7단\n",
      "07 x 01 = 7\t07 x 02 = 14\t07 x 03 = 21\t07 x 04 = 28\t07 x 05 = 35\t07 x 06 = 42\t07 x 07 = 49\t07 x 08 = 56\t07 x 09 = 63\t\n",
      "8단\n",
      "08 x 01 = 8\t08 x 02 = 16\t08 x 03 = 24\t08 x 04 = 32\t08 x 05 = 40\t08 x 06 = 48\t08 x 07 = 56\t08 x 08 = 64\t08 x 09 = 72\t\n",
      "9단\n",
      "09 x 01 = 9\t09 x 02 = 18\t09 x 03 = 27\t09 x 04 = 36\t09 x 05 = 45\t09 x 06 = 54\t09 x 07 = 63\t09 x 08 = 72\t09 x 09 = 81\t"
     ]
    }
   ],
   "source": [
    "for dan in range(2, 10):\n",
    "    print(f'\\n{dan}단')\n",
    "    gugu(dan, 1)"
   ]
  },
  {
   "cell_type": "code",
   "execution_count": 13,
   "metadata": {},
   "outputs": [],
   "source": [
    "## 피보나치 f(n) = f(n-1) + f(n-2)\n",
    "def fibo(n):\n",
    "    if n == 0: return 0\n",
    "    elif n == 1: return 1\n",
    "    else:\n",
    "        return fibo(n-1) + fibo(n-2) # 재귀호출을 안쓰면 for문 써야함. 재귀호출을 쓰면 수식이 간단"
   ]
  },
  {
   "cell_type": "code",
   "execution_count": 14,
   "metadata": {},
   "outputs": [
    {
     "name": "stdout",
     "output_type": "stream",
     "text": [
      "피보나치\n",
      "1 / 1 / 2 / 3 / 5 / 8 / 13 / 21 / 34 / 55 / 89 / 144 / 233 / 377 / 610 / 987 / 1597 / 2584 / 4181 / "
     ]
    }
   ],
   "source": [
    "print('피보나치')\n",
    "for i in range(1, 20): # 2부터 10까지\n",
    "    print(f'{fibo(i)}', end=' / ')"
   ]
  },
  {
   "cell_type": "code",
   "execution_count": 15,
   "metadata": {},
   "outputs": [],
   "source": [
    "def fiboNoRecv(n):\n",
    "    a, b = 1, 1\n",
    "\n",
    "    if n <= 2:\n",
    "        return 1\n",
    "    else:\n",
    "        while n > 2:\n",
    "            if a <= b: a = a + b\n",
    "            else: b = a + b\n",
    "\n",
    "            return a + b"
   ]
  },
  {
   "cell_type": "code",
   "execution_count": 16,
   "metadata": {},
   "outputs": [
    {
     "name": "stdout",
     "output_type": "stream",
     "text": [
      "반복 피보나치\n",
      "1 / 1 / 3 / 3 / 3 / 3 / 3 / 3 / 3 / 3 / 3 / 3 / 3 / 3 / 3 / 3 / 3 / 3 / 3 / "
     ]
    }
   ],
   "source": [
    "print('반복 피보나치')\n",
    "for i in range(1, 20):\n",
    "    print(f'{fiboNoRecv(i)}', end=' / ')"
   ]
  }
 ],
 "metadata": {
  "kernelspec": {
   "display_name": "Python 3",
   "language": "python",
   "name": "python3"
  },
  "language_info": {
   "codemirror_mode": {
    "name": "ipython",
    "version": 3
   },
   "file_extension": ".py",
   "mimetype": "text/x-python",
   "name": "python",
   "nbconvert_exporter": "python",
   "pygments_lexer": "ipython3",
   "version": "3.11.5"
  }
 },
 "nbformat": 4,
 "nbformat_minor": 2
}
